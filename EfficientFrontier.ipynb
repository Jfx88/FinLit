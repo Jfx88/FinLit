{
 "cells": [
  {
   "cell_type": "code",
   "execution_count": 125,
   "metadata": {},
   "outputs": [],
   "source": [
    "import numpy as np\n",
    "import pandas as pd\n",
    "import datetime \n",
    "from statsmodels.stats.moment_helpers import corr2cov\n",
    "import scipy.stats\n",
    "import bqplot as bq\n",
    "import ipywidgets as widgets\n"
   ]
  },
  {
   "cell_type": "markdown",
   "metadata": {},
   "source": [
    "## The data shows asset prices are random from moment to moment, or at least can be modeled that way. \n",
    "## Lets look at a stochastic process \n",
    "\n",
    "## $$ dS_t = \\mu S_t dt + \\sigma S_t dW_t$$\n"
   ]
  },
  {
   "cell_type": "markdown",
   "metadata": {},
   "source": [
    "## Using ito's calculus if we solve this this equation for any $S_0$ we get the value of $S_t$ at any point in the future with:\n",
    "\n",
    "## $$ S_t = S_0  exp \\left( \\left( \\mu - \\frac{\\sigma ^2}{2} \\right) t + \\sigma W_t \\right)$$"
   ]
  },
  {
   "cell_type": "code",
   "execution_count": 37,
   "metadata": {},
   "outputs": [],
   "source": [
    "def VestaSim(I):\n",
    "    \n",
    "    S = S0 * np.exp(np.cumsum((mu - 0.5 * sigma ** 2) * dt\n",
    "                + sigma * np.sqrt(dt) * np.random.standard_normal((M + 1, I)), axis=0))\n",
    "    S[0] = S0\n",
    "    return S"
   ]
  },
  {
   "cell_type": "code",
   "execution_count": 34,
   "metadata": {},
   "outputs": [],
   "source": [
    "\n",
    "S0 = 100; mu = 0.01; sigma = 0.02\n",
    "T = 5.0; M = 60; dt = T / M    \n",
    "\n",
    "nsims = 1\n",
    "\n",
    "S = VestaSim(nsims)"
   ]
  },
  {
   "cell_type": "code",
   "execution_count": 35,
   "metadata": {},
   "outputs": [],
   "source": [
    "sc_x = bq.LinearScale()\n",
    "sc_y = bq.LinearScale()\n",
    "\n",
    "line = bq.Lines(x=np.arange(len(S)), y=S.transpose(),\n",
    "             scales={'x': sc_x, 'y': sc_y})\n",
    "ax_x = bq.Axis(scale=sc_x, label='Index')\n",
    "ax_y = bq.Axis(scale=sc_y, orientation='vertical', label='Values')\n",
    "\n",
    "Rando = bq.Figure(marks=[line], axes=[ax_x, ax_y], title='Random Values')"
   ]
  },
  {
   "cell_type": "code",
   "execution_count": 36,
   "metadata": {},
   "outputs": [
    {
     "data": {
      "application/vnd.jupyter.widget-view+json": {
       "model_id": "7257d5608dd84a4abb67cbf21e58070c",
       "version_major": 2,
       "version_minor": 0
      },
      "text/plain": [
       "Figure(axes=[Axis(label='Index', scale=LinearScale(), side='bottom'), Axis(label='Values', orientation='vertic…"
      ]
     },
     "metadata": {},
     "output_type": "display_data"
    }
   ],
   "source": [
    "Rando"
   ]
  },
  {
   "cell_type": "markdown",
   "metadata": {},
   "source": [
    "## What happens if we put more than one asset into a portfolio? \n",
    "## lets start with 2 assets"
   ]
  },
  {
   "cell_type": "markdown",
   "metadata": {},
   "source": [
    "Our Expected Return should be the weight of one asset's return plus the weight of the second asset's return:\n",
    "## $$ E[r] = w\\mu_1 + (1- w)\\mu_2$$"
   ]
  },
  {
   "cell_type": "markdown",
   "metadata": {},
   "source": [
    "## Our 2 asset portfolio variance is a little more complicated because the assets move $\\sigma$ but they also move together $\\rho$ (correlation)"
   ]
  },
  {
   "cell_type": "markdown",
   "metadata": {},
   "source": [
    "## $$ Variance =  w_1^2\\sigma_1^2 + w_2^2\\sigma_2^2 + 2w_1w_2\\sigma_1\\sigma_2\\rho$$"
   ]
  },
  {
   "cell_type": "markdown",
   "metadata": {},
   "source": [
    "## Now we can plot our 2 assets in Mean Variance space and see how they relate to each other "
   ]
  },
  {
   "cell_type": "code",
   "execution_count": 157,
   "metadata": {},
   "outputs": [],
   "source": [
    "#set up the graph space\n",
    "Ax2 = bq.LinearScale()\n",
    "Ay2 = bq.LinearScale()\n",
    "Portx = np.array(Vols)\n",
    "\n",
    "\n",
    "assetline = bq.Scatter(x=[], y=[],\n",
    "             scales={'x': Ax2, 'y': Ay2})\n",
    "ax2_x = bq.Axis(scale=Ax2, label='Volatility', tick_format='0.2f')\n",
    "ax2_y = bq.Axis(scale=Ay2, orientation='vertical', label='Expected Return')\n",
    "\n",
    "MarkoPort = bq.Figure(marks=[assetline], axes=[ax2_x, ax2_y], title='2 Asset Portfolio', animation = 1000)"
   ]
  },
  {
   "cell_type": "code",
   "execution_count": 158,
   "metadata": {},
   "outputs": [],
   "source": [
    "corr_control = widgets.Dropdown(options=[1, .75,.5,.25,0,-.25,-.5, -.75, -1],\n",
    "    value=0)\n",
    "CorrOut =widgets.Output()\n",
    "def UPdateCorr(*args):\n",
    "    Asset_1_mu = 0.05\n",
    "    Asset_2_mu = 0.15\n",
    "    Asset_1_vol = 0.06\n",
    "    Asset_2_vol = 0.20\n",
    "    corr = corr_control.value\n",
    "    Weights = [1, .75, .5, .25, 0]\n",
    "    E_r = []\n",
    "    Vols = []\n",
    "    for weight in Weights:\n",
    "        expRet = weight * Asset_1_mu + ((1-weight) * Asset_2_mu)\n",
    "        E_r.append(expRet)\n",
    "        Vol = np.sqrt((weight**2) * (Asset_1_vol**2) + ((1-weight)**2) * (Asset_2_vol**2) + (2*weight *(1-weight)*Asset_1_vol*Asset_2_vol*corr))\n",
    "        Vols.append(Vol)\n",
    "    \n",
    "    with CorrOut:\n",
    "        assetline.x = Vols\n",
    "        assetline.y = E_r\n",
    "        "
   ]
  },
  {
   "cell_type": "code",
   "execution_count": 159,
   "metadata": {},
   "outputs": [],
   "source": [
    "corr_control.observe(UPdateCorr,'value')"
   ]
  },
  {
   "cell_type": "code",
   "execution_count": 161,
   "metadata": {},
   "outputs": [
    {
     "data": {
      "application/vnd.jupyter.widget-view+json": {
       "model_id": "6b72d6ddb2ec4a14a9b24443a02e6c63",
       "version_major": 2,
       "version_minor": 0
      },
      "text/plain": [
       "VBox(children=(Dropdown(index=4, options=(1, 0.75, 0.5, 0.25, 0, -0.25, -0.5, -0.75, -1), value=0), Figure(axe…"
      ]
     },
     "metadata": {},
     "output_type": "display_data"
    }
   ],
   "source": [
    "Corrgraph = widgets.VBox([corr_control,MarkoPort])\n",
    "display(Corrgraph)"
   ]
  },
  {
   "cell_type": "markdown",
   "metadata": {},
   "source": [
    "## Now we can see what many assets can look like together"
   ]
  },
  {
   "cell_type": "code",
   "execution_count": 81,
   "metadata": {},
   "outputs": [],
   "source": [
    "stocks = ['HedgeFunds',\t'RealAsset'\t,'ACWI'\t,'Bonds','Cash']\n",
    "VolData = {'Vol': [0.0468,0.04975,0.1513,0.03401,0]}\n",
    "RetData = {'Ret':[0.0652,0.0631,.059811,.0351,0.01]}\n",
    "\n",
    "mean_returns = pd.DataFrame(RetData, columns = ['Ret'], index = stocks)\n",
    "Vols = pd.DataFrame(VolData, columns = ['Vol'], index = stocks)\n",
    "\n",
    "a = [1, 0.171631, 0.553449, 0.007903, 0]\n",
    "b = [0.171631, 1.0 ,0.073338 ,-0.108612, 0]\n",
    "c =[ 0.553449, 0.073338, 1.0, -0.026649, 0]\n",
    "d= [0.007903,  -0.108612, -0.026649, 1.0, 0]\n",
    "e = [0,0,0,0,1.0]\n",
    "CorrMat = np.vstack([a,b,c,d,e])\n",
    "cov_matrix  = pd.DataFrame(corr2cov(CorrMat,Vols), index = stocks, columns = stocks)\n",
    "\n",
    "mean_returns =mean_returns.loc[:,'Ret']"
   ]
  },
  {
   "cell_type": "code",
   "execution_count": 82,
   "metadata": {},
   "outputs": [],
   "source": [
    "#set number of runs of random portfolio weights\n",
    "num_portfolios = 10000"
   ]
  },
  {
   "cell_type": "code",
   "execution_count": 83,
   "metadata": {},
   "outputs": [],
   "source": [
    "#set up array to hold results\n",
    "#We have increased the size of the array to hold the weight values for each stock\n",
    "results = np.zeros((4+len(stocks)-1,num_portfolios))\n",
    " \n",
    "for i in range(num_portfolios):\n",
    "    #select random weights for portfolio holdings *No short selling\n",
    "    weights = np.array(np.random.random(len(stocks)))\n",
    "    \n",
    "    #select random weights for portfolio holdings *short selling\n",
    "    #weights = np.array(-1*np.random.random(len(stocks)) + .5)\n",
    "    \n",
    "    #rebalance weights to sum to 1\n",
    "    weights /= np.sum(weights)\n",
    "    \n",
    "    #calculate portfolio return and volatility\n",
    "    portfolio_return = np.sum(mean_returns * weights) * ReturnScale\n",
    "    portfolio_std_dev = np.sqrt(np.dot(weights.T,np.dot(cov_matrix, weights))) * np.sqrt(ReturnScale)\n",
    " \n",
    "    #store results in results array\n",
    "    results[0,i] = portfolio_return\n",
    "    results[1,i] = portfolio_std_dev\n",
    "    #store Sharpe Ratio (return / volatility) - risk free rate element excluded for simplicity\n",
    "    results[2,i] = results[0,i] / results[1,i]\n",
    "    #iterate through the weight vector and add data to results array\n",
    "    for j in range(len(weights)):\n",
    "        results[j+3,i] = weights[j]"
   ]
  },
  {
   "cell_type": "code",
   "execution_count": 84,
   "metadata": {},
   "outputs": [],
   "source": [
    "#Label the result frame for the output and securities        \n",
    "cols = ['ret','stdev','sharpe'] \n",
    "for stock in stocks:\n",
    "    cols.append(stock)\n",
    "    \n",
    "#convert results array to Pandas DataFrame\n",
    "results_frame = pd.DataFrame(results.T,columns=cols)\n",
    " \n",
    "#locate position of portfolio with highest Sharpe Ratio\n",
    "max_sharpe_port = results_frame.iloc[results_frame['sharpe'].idxmax()]\n",
    "#locate positon of portfolio with minimum standard deviation\n",
    "min_vol_port = results_frame.iloc[results_frame['stdev'].idxmin()]"
   ]
  },
  {
   "cell_type": "code",
   "execution_count": 78,
   "metadata": {},
   "outputs": [],
   "source": [
    "sc_x = bq.LinearScale()\n",
    "sc_y = bq.LinearScale()\n",
    "\n",
    "sc_c1 = bq.ColorScale()\n",
    "\n",
    "\n",
    "scatter = bq.Scatter(x=results_frame.stdev*100, y=results_frame.ret*100, color=results_frame.sharpe,\n",
    "                  scales={'x': sc_x, 'y': sc_y, 'color': sc_c1})\n",
    "\n",
    "ax_y = bq.Axis(label='Expected Return %', scale=sc_y, \n",
    "            orientation='vertical', side='left')\n",
    "\n",
    "ax_x = bq.Axis(label='Volatility', scale=sc_x, num_ticks=10, label_location='end')\n",
    "ax_c = bq.ColorAxis(scale=sc_c1, tick_format='0.2', label='Sharpe Ratio', orientation='vertical', side='right')\n",
    "\n",
    "m_chart = dict(top=50, bottom=70, left=50, right=100)\n",
    "\n",
    "Graph = bq.Figure(axes=[ax_x, ax_c, ax_y], marks=[scatter],fig_margin=m_chart,\n",
    "       title='Possible Portfolios') #, fig_margin=m_chart"
   ]
  },
  {
   "cell_type": "code",
   "execution_count": 79,
   "metadata": {},
   "outputs": [],
   "source": [
    "sc_c1.colors = ['blue', 'yellow', 'red']"
   ]
  },
  {
   "cell_type": "code",
   "execution_count": 80,
   "metadata": {},
   "outputs": [
    {
     "data": {
      "application/vnd.jupyter.widget-view+json": {
       "model_id": "ef8983954d1945f0a67ef9f30c8b1c4e",
       "version_major": 2,
       "version_minor": 0
      },
      "text/plain": [
       "Figure(axes=[Axis(label='Volatility', label_location='end', num_ticks=10, scale=LinearScale(), side='bottom'),…"
      ]
     },
     "metadata": {},
     "output_type": "display_data"
    }
   ],
   "source": [
    "Graph"
   ]
  },
  {
   "cell_type": "code",
   "execution_count": null,
   "metadata": {},
   "outputs": [],
   "source": []
  }
 ],
 "metadata": {
  "kernelspec": {
   "display_name": "Python 3",
   "language": "python",
   "name": "python3"
  },
  "language_info": {
   "codemirror_mode": {
    "name": "ipython",
    "version": 3
   },
   "file_extension": ".py",
   "mimetype": "text/x-python",
   "name": "python",
   "nbconvert_exporter": "python",
   "pygments_lexer": "ipython3",
   "version": "3.7.4"
  }
 },
 "nbformat": 4,
 "nbformat_minor": 4
}
