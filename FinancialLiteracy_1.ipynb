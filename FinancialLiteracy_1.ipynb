{
 "cells": [
  {
   "cell_type": "code",
   "execution_count": 18,
   "metadata": {},
   "outputs": [],
   "source": [
    "import bqplot as bq"
   ]
  },
  {
   "cell_type": "markdown",
   "metadata": {},
   "source": [
    "# Discounting Cash Flows"
   ]
  },
  {
   "cell_type": "markdown",
   "metadata": {},
   "source": [
    "## We will take a cash flow in the future and bring it back to today"
   ]
  },
  {
   "cell_type": "markdown",
   "metadata": {},
   "source": [
    "## $$ PV = \\frac{FV}{(1+k)^n}$$\n"
   ]
  },
  {
   "cell_type": "code",
   "execution_count": 5,
   "metadata": {},
   "outputs": [],
   "source": [
    "Years_Out = 3\n",
    "Cash_Flow = 150\n",
    "Rate = 0.10\n",
    "\n",
    "PV = Cash_Flow/((1+Rate)**Years_Out)"
   ]
  },
  {
   "cell_type": "code",
   "execution_count": 6,
   "metadata": {},
   "outputs": [
    {
     "data": {
      "text/plain": [
       "112.69722013523663"
      ]
     },
     "execution_count": 6,
     "metadata": {},
     "output_type": "execute_result"
    }
   ],
   "source": [
    "PV"
   ]
  },
  {
   "cell_type": "markdown",
   "metadata": {},
   "source": [
    "## Lets move money into the future"
   ]
  },
  {
   "cell_type": "markdown",
   "metadata": {},
   "source": [
    "## $$ FV = PV \\times (1+k)^n$$"
   ]
  },
  {
   "cell_type": "code",
   "execution_count": 13,
   "metadata": {},
   "outputs": [],
   "source": [
    "PV = PV"
   ]
  },
  {
   "cell_type": "code",
   "execution_count": 14,
   "metadata": {},
   "outputs": [],
   "source": [
    "FV = PV * (1 + Rate)**Years_Out"
   ]
  },
  {
   "cell_type": "code",
   "execution_count": 15,
   "metadata": {},
   "outputs": [
    {
     "data": {
      "text/plain": [
       "150.0"
      ]
     },
     "execution_count": 15,
     "metadata": {},
     "output_type": "execute_result"
    }
   ],
   "source": [
    "FV"
   ]
  },
  {
   "cell_type": "markdown",
   "metadata": {},
   "source": [
    "## Lets change the compounding period "
   ]
  },
  {
   "cell_type": "markdown",
   "metadata": {},
   "source": [
    "## $$ FV = PV \\times (1+\\frac{k}{m})^{nm}$$"
   ]
  },
  {
   "cell_type": "code",
   "execution_count": 16,
   "metadata": {},
   "outputs": [],
   "source": [
    "Compounding_PerYear = 2\n",
    "\n",
    "FV_Compounded = PV * (1 + Rate/Compounding_PerYear)**(Years_Out*Compounding_PerYear)"
   ]
  },
  {
   "cell_type": "code",
   "execution_count": 17,
   "metadata": {},
   "outputs": [
    {
     "data": {
      "text/plain": [
       "151.02505341378662"
      ]
     },
     "execution_count": 17,
     "metadata": {},
     "output_type": "execute_result"
    }
   ],
   "source": [
    "FV_Compounded "
   ]
  },
  {
   "cell_type": "markdown",
   "metadata": {},
   "source": [
    "## Now lets look at an interest rate curve. "
   ]
  },
  {
   "cell_type": "code",
   "execution_count": 24,
   "metadata": {},
   "outputs": [],
   "source": [
    "#Us Treasury Rates (3/31/05)\n",
    "X = (.25,.5,2,3,5,10)\n",
    "Y = (2.7767, 3.1301, 3.7827, 3.9248, 4.1687,4.4855)\n",
    "\n",
    "#set up the chart\n",
    "xs = bq.LinearScale()\n",
    "ys = bq.LinearScale()\n",
    "line = bq.Lines(x =X, y=Y, scales = {'x': xs, 'y':ys}, stroke_width = 1,interpolation= 'cardinal' )\n",
    "xax = bq.Axis(scale = xs, label ='Tenor(Years)', grid_lines='solid')\n",
    "yax = bq.Axis(scale= ys, orientation = 'vertical', tick_format='0.4f',label ='Rate',grid_lines='solid')\n",
    "Interest_Rate_Graph = bq.Figure(title = \"Interest Rates (3/31/05)\", marks = [line], axes=[xax,yax], animation_duration= 1000)\n"
   ]
  },
  {
   "cell_type": "code",
   "execution_count": 25,
   "metadata": {},
   "outputs": [
    {
     "data": {
      "application/vnd.jupyter.widget-view+json": {
       "model_id": "1ebfd430f1ba48ba997e95c6afdbe60e",
       "version_major": 2,
       "version_minor": 0
      },
      "text/plain": [
       "Figure(animation_duration=1000, axes=[Axis(label='Tenor(Years)', scale=LinearScale(), side='bottom'), Axis(lab…"
      ]
     },
     "metadata": {},
     "output_type": "display_data"
    }
   ],
   "source": [
    "Interest_Rate_Graph"
   ]
  },
  {
   "cell_type": "markdown",
   "metadata": {},
   "source": [
    "## So now we have different rates for different times. Lets bring back 2 cash flows from 2 different times"
   ]
  },
  {
   "cell_type": "markdown",
   "metadata": {},
   "source": [
    "## $$ PV = \\frac{FV_x}{(1+k_x)^x} + \\frac{FV_y}{(1+k_y)^y} $$"
   ]
  },
  {
   "cell_type": "markdown",
   "metadata": {},
   "source": [
    "## Lets bring back 100 dollars paid in 2 years and 150 dollars paid in 5 years"
   ]
  },
  {
   "cell_type": "code",
   "execution_count": 27,
   "metadata": {},
   "outputs": [],
   "source": [
    "CashFlow_1 =100\n",
    "CashFlow_2 = 150\n",
    "Years_1 = 2\n",
    "Years_2 = 5\n",
    "Rate_1 = 0.037827\n",
    "Rate_2 = 0.041687\n",
    "\n",
    "PV_2CashFLows = (CashFlow_1/((1+Rate_1)**Years_1)) + (CashFlow_2/((1+Rate_2)**Years_2))"
   ]
  },
  {
   "cell_type": "markdown",
   "metadata": {},
   "source": [
    "Just to check"
   ]
  },
  {
   "cell_type": "code",
   "execution_count": 28,
   "metadata": {},
   "outputs": [
    {
     "data": {
      "text/plain": [
       "92.843193398932"
      ]
     },
     "execution_count": 28,
     "metadata": {},
     "output_type": "execute_result"
    }
   ],
   "source": [
    "PV1 = (CashFlow_1/((1+Rate_1)**Years_1))\n",
    "PV1"
   ]
  },
  {
   "cell_type": "code",
   "execution_count": 29,
   "metadata": {},
   "outputs": [
    {
     "data": {
      "text/plain": [
       "122.29396828270929"
      ]
     },
     "execution_count": 29,
     "metadata": {},
     "output_type": "execute_result"
    }
   ],
   "source": [
    "PV2 = (CashFlow_2/((1+Rate_2)**Years_2))\n",
    "PV2"
   ]
  },
  {
   "cell_type": "code",
   "execution_count": 30,
   "metadata": {},
   "outputs": [
    {
     "data": {
      "text/plain": [
       "215.1371616816413"
      ]
     },
     "execution_count": 30,
     "metadata": {},
     "output_type": "execute_result"
    }
   ],
   "source": [
    "PV1 + PV2"
   ]
  },
  {
   "cell_type": "code",
   "execution_count": 31,
   "metadata": {},
   "outputs": [
    {
     "data": {
      "text/plain": [
       "215.1371616816413"
      ]
     },
     "execution_count": 31,
     "metadata": {},
     "output_type": "execute_result"
    }
   ],
   "source": [
    "PV_2CashFLows"
   ]
  },
  {
   "cell_type": "markdown",
   "metadata": {},
   "source": [
    "## So now we can take multiple cashflows in the future and bring them all back. We get a Net Present Value for all cashflows"
   ]
  },
  {
   "cell_type": "markdown",
   "metadata": {},
   "source": [
    "## $$ NPV = CF_0 + \\frac{CF_1}{(1+k)^1}+ \\frac{CF_2}{(1+k)^2} + ...+ \\frac{CF_n}{(1+k)^n}$$"
   ]
  },
  {
   "cell_type": "markdown",
   "metadata": {},
   "source": [
    "## Which is the same as:"
   ]
  },
  {
   "cell_type": "markdown",
   "metadata": {},
   "source": [
    "## $$ NPV = \\sum \\limits _{t=0} ^{n} \\frac{CF_1}{(1+k)^t} $$"
   ]
  },
  {
   "cell_type": "markdown",
   "metadata": {},
   "source": [
    "## CookieCorp is considering building a new factory to make cookies in America"
   ]
  },
  {
   "cell_type": "markdown",
   "metadata": {},
   "source": [
    "Initial Investment = \\\\$10,000,00 <br>\n",
    "Company's cost of capital = 9.37% \n",
    "<br> Cash FLows are:\n",
    "  <br>  Year 1 = \\\\$2,000,00\n",
    "  <br>  Year 2 = \\\\$4,000,00\n",
    "  <br>  Year 3 = \\\\$6,000,00\n",
    " <br> \n",
    " <br>  Is it worth investing 10M now for these cashflows given the cost of capital? \n",
    "\n",
    "\n",
    "\n"
   ]
  },
  {
   "cell_type": "code",
   "execution_count": 34,
   "metadata": {},
   "outputs": [],
   "source": [
    "#Set up the variables\n",
    "\n",
    "CF_0 = 10000000\n",
    "k = 0.00\n",
    "CF_1 = 2000000\n",
    "CF_2 = 4000000\n",
    "CF_3 = 6000000\n",
    "discount_Rate = 1 + k"
   ]
  },
  {
   "cell_type": "code",
   "execution_count": 35,
   "metadata": {},
   "outputs": [
    {
     "data": {
      "text/plain": [
       "2000000.0"
      ]
     },
     "execution_count": 35,
     "metadata": {},
     "output_type": "execute_result"
    }
   ],
   "source": [
    "# Set up the problem: **remeber the investment is a negative cashflow\n",
    "\n",
    "NPV = -CF_0 + (CF_1/((discount_Rate)**1)) + (CF_2/((discount_Rate)**2)) + (CF_3/((discount_Rate)**3))\n",
    "\n",
    "NPV"
   ]
  },
  {
   "cell_type": "code",
   "execution_count": null,
   "metadata": {},
   "outputs": [],
   "source": [
    "-"
   ]
  }
 ],
 "metadata": {
  "kernelspec": {
   "display_name": "Python 3",
   "language": "python",
   "name": "python3"
  },
  "language_info": {
   "codemirror_mode": {
    "name": "ipython",
    "version": 3
   },
   "file_extension": ".py",
   "mimetype": "text/x-python",
   "name": "python",
   "nbconvert_exporter": "python",
   "pygments_lexer": "ipython3",
   "version": "3.7.4"
  }
 },
 "nbformat": 4,
 "nbformat_minor": 4
}
