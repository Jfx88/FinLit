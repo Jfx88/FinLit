{
 "cells": [
  {
   "cell_type": "code",
   "execution_count": null,
   "metadata": {},
   "outputs": [],
   "source": [
    "import bqplot as bq\n",
    "import ipywidgets as widgets\n",
    "import bqplot as bq\n",
    "from IPython.display import display\n",
    "from IPython.display import Image\n",
    "import numpy as np"
   ]
  },
  {
   "cell_type": "markdown",
   "metadata": {},
   "source": [
    "# Discounting Cash Flows"
   ]
  },
  {
   "cell_type": "markdown",
   "metadata": {},
   "source": [
    "## We will take a cash flow in the future and bring it back to today"
   ]
  },
  {
   "cell_type": "markdown",
   "metadata": {},
   "source": [
    "## $$ PV = \\frac{FV}{(1+k)^n}$$\n"
   ]
  },
  {
   "cell_type": "code",
   "execution_count": null,
   "metadata": {},
   "outputs": [],
   "source": [
    "Years_Out = 3\n",
    "Cash_Flow = 150\n",
    "Rate = 0.10\n",
    "\n",
    "PV = Cash_Flow/((1+Rate)**Years_Out)"
   ]
  },
  {
   "cell_type": "code",
   "execution_count": null,
   "metadata": {},
   "outputs": [],
   "source": [
    "PV"
   ]
  },
  {
   "cell_type": "markdown",
   "metadata": {},
   "source": [
    "## Lets move money into the future"
   ]
  },
  {
   "cell_type": "markdown",
   "metadata": {},
   "source": [
    "## $$ FV = PV \\times (1+k)^n$$"
   ]
  },
  {
   "cell_type": "code",
   "execution_count": null,
   "metadata": {},
   "outputs": [],
   "source": [
    "PV = PV"
   ]
  },
  {
   "cell_type": "code",
   "execution_count": null,
   "metadata": {},
   "outputs": [],
   "source": [
    "FV = PV * (1 + Rate)**Years_Out"
   ]
  },
  {
   "cell_type": "code",
   "execution_count": null,
   "metadata": {},
   "outputs": [],
   "source": [
    "FV"
   ]
  },
  {
   "cell_type": "markdown",
   "metadata": {},
   "source": [
    "## Lets change the compounding period "
   ]
  },
  {
   "cell_type": "markdown",
   "metadata": {},
   "source": [
    "## $$ FV = PV \\times (1+\\frac{k}{m})^{nm}$$"
   ]
  },
  {
   "cell_type": "code",
   "execution_count": null,
   "metadata": {},
   "outputs": [],
   "source": [
    "Compounding_PerYear = 2\n",
    "\n",
    "FV_Compounded = PV * (1 + Rate/Compounding_PerYear)**(Years_Out*Compounding_PerYear)"
   ]
  },
  {
   "cell_type": "code",
   "execution_count": null,
   "metadata": {},
   "outputs": [],
   "source": [
    "FV_Compounded "
   ]
  },
  {
   "cell_type": "markdown",
   "metadata": {},
   "source": [
    "## Now lets look at an interest rate curve. "
   ]
  },
  {
   "cell_type": "code",
   "execution_count": null,
   "metadata": {},
   "outputs": [],
   "source": [
    "#US Treasury Rates (3/31/05)\n",
    "X = (.25,.5,2,3,5,10)\n",
    "Y = (2.77, 3.13, 3.78, 3.92, 4.16,4.48)\n",
    "\n",
    "#set up the chart\n",
    "xs = bq.LinearScale()\n",
    "ys = bq.LinearScale()\n",
    "line = bq.Lines(x =X, y=Y, scales = {'x': xs, 'y':ys}, stroke_width = 1,interpolation= 'cardinal' )\n",
    "xax = bq.Axis(scale = xs, label ='Tenor(Years)', grid_lines='solid')\n",
    "yax = bq.Axis(scale= ys, orientation = 'vertical', tick_format='0.4f',label ='Rate',grid_lines='solid')\n",
    "Interest_Rate_Graph = bq.Figure(title = \"Interest Rates (3/31/05)\", marks = [line], axes=[xax,yax], animation_duration= 1000)\n"
   ]
  },
  {
   "cell_type": "code",
   "execution_count": null,
   "metadata": {},
   "outputs": [],
   "source": [
    "Interest_Rate_Graph"
   ]
  },
  {
   "cell_type": "markdown",
   "metadata": {},
   "source": [
    "## So now we have different rates for different times. Lets bring back 2 cash flows from 2 different times"
   ]
  },
  {
   "cell_type": "markdown",
   "metadata": {},
   "source": [
    "## $$ PV = \\frac{FV_x}{(1+k_x)^x} + \\frac{FV_y}{(1+k_y)^y} $$"
   ]
  },
  {
   "cell_type": "markdown",
   "metadata": {},
   "source": [
    "## Lets bring back 100 dollars paid in 2 years and 150 dollars paid in 5 years"
   ]
  },
  {
   "cell_type": "code",
   "execution_count": null,
   "metadata": {},
   "outputs": [],
   "source": [
    "CashFlow_1 =100\n",
    "CashFlow_2 = 150\n",
    "Years_1 = 2\n",
    "Years_2 = 5\n",
    "Rate_1 = 0.0378\n",
    "Rate_2 = 0.0416\n",
    "\n",
    "PV_2CashFLows = (CashFlow_1/((1+Rate_1)**Years_1)) + (CashFlow_2/((1+Rate_2)**Years_2))"
   ]
  },
  {
   "cell_type": "markdown",
   "metadata": {},
   "source": [
    "Just to check"
   ]
  },
  {
   "cell_type": "code",
   "execution_count": null,
   "metadata": {},
   "outputs": [],
   "source": [
    "PV1 = (CashFlow_1/((1+Rate_1)**Years_1))\n",
    "PV1"
   ]
  },
  {
   "cell_type": "code",
   "execution_count": null,
   "metadata": {},
   "outputs": [],
   "source": [
    "PV2 = (CashFlow_2/((1+Rate_2)**Years_2))\n",
    "PV2"
   ]
  },
  {
   "cell_type": "code",
   "execution_count": null,
   "metadata": {},
   "outputs": [],
   "source": [
    "PV1 + PV2"
   ]
  },
  {
   "cell_type": "code",
   "execution_count": null,
   "metadata": {},
   "outputs": [],
   "source": [
    "PV_2CashFLows"
   ]
  },
  {
   "cell_type": "markdown",
   "metadata": {},
   "source": [
    "## So now we can take multiple cashflows in the future and bring them all back. We get a Net Present Value for all cashflows"
   ]
  },
  {
   "cell_type": "markdown",
   "metadata": {},
   "source": [
    "## $$ NPV = CF_0 + \\frac{CF_1}{(1+k)^1}+ \\frac{CF_2}{(1+k)^2} + ...+ \\frac{CF_n}{(1+k)^n}$$"
   ]
  },
  {
   "cell_type": "markdown",
   "metadata": {},
   "source": [
    "## Which is the same as:"
   ]
  },
  {
   "cell_type": "markdown",
   "metadata": {},
   "source": [
    "## $$ NPV = \\sum \\limits _{t=0} ^{n} \\frac{CF_t}{(1+k)^t} $$"
   ]
  },
  {
   "cell_type": "markdown",
   "metadata": {},
   "source": [
    "## CookieCorp is considering building a new factory to make cookies in America"
   ]
  },
  {
   "cell_type": "markdown",
   "metadata": {},
   "source": [
    "Initial Investment = \\\\$10,000,00 <br>\n",
    "Company's cost of capital = 9.37% \n",
    "<br> Cash FLows are:\n",
    "  <br>  Year 1 = \\\\$2,000,00\n",
    "  <br>  Year 2 = \\\\$4,000,00\n",
    "  <br>  Year 3 = \\\\$6,000,00\n",
    " <br> \n",
    " <br>  Is it worth investing 10M now for these cashflows given the cost of capital? \n",
    "\n",
    "\n",
    "\n"
   ]
  },
  {
   "cell_type": "code",
   "execution_count": null,
   "metadata": {},
   "outputs": [],
   "source": [
    "#Set up the variables\n",
    "\n",
    "CF_0 = 10000000\n",
    "k = 0.00\n",
    "CF_1 = 2000000\n",
    "CF_2 = 4000000\n",
    "CF_3 = 6000000\n",
    "discount_Rate = 1 + k"
   ]
  },
  {
   "cell_type": "code",
   "execution_count": null,
   "metadata": {},
   "outputs": [],
   "source": [
    "# Set up the problem: **remeber the investment is a negative cashflow\n",
    "\n",
    "NPV = -CF_0 + (CF_1/((discount_Rate)**1)) + (CF_2/((discount_Rate)**2)) + (CF_3/((discount_Rate)**3))\n",
    "\n",
    "NPV"
   ]
  },
  {
   "cell_type": "markdown",
   "metadata": {},
   "source": [
    "## Lets see what NPV looks like over various discount rates"
   ]
  },
  {
   "cell_type": "code",
   "execution_count": null,
   "metadata": {},
   "outputs": [],
   "source": [
    "RateArray = []\n",
    "ManyRates = np.linspace(0.01,0.2,20)\n",
    "for rate in ManyRates:\n",
    "    discount_Rate = 1+ rate\n",
    "    NewNPV = -CF_0 + (CF_1/((discount_Rate)**1)) + (CF_2/((discount_Rate)**2)) + (CF_3/((discount_Rate)**3))\n",
    "    RateArray.append(NewNPV)"
   ]
  },
  {
   "cell_type": "code",
   "execution_count": null,
   "metadata": {},
   "outputs": [],
   "source": [
    "#Set up graph parameters\n",
    "IRRxs = bq.LinearScale()\n",
    "IRRys = bq.LinearScale()\n",
    "panzoom = bq.PanZoom(scales={'y': [IRRys],'x':[IRRxs]})\n",
    "IRR_y = RateArray\n",
    "IRR_x = ManyRates\n",
    "IRRline = bq.Lines(x =IRR_x, y=IRR_y, scales = {'x': IRRxs, 'y':IRRys}, stroke_width = 1 )\n",
    "IRRxax = bq.Axis(scale = IRRxs, label ='Discount Rates', tick_format='0.2f', grid_lines='solid')\n",
    "IRRyax = bq.Axis(scale= IRRys, orientation = 'vertical', label ='NPV',grid_lines='solid')\n",
    "IRR_Graph = bq.Figure(title = \"NPV for Rates\", marks = [IRRline], axes=[IRRxax,IRRyax], interaction=panzoom, animation_duration= 1000)\n"
   ]
  },
  {
   "cell_type": "code",
   "execution_count": null,
   "metadata": {},
   "outputs": [],
   "source": [
    "IRR_Graph"
   ]
  },
  {
   "cell_type": "markdown",
   "metadata": {},
   "source": [
    "## So lets turn this around and calculate an IRR now that we know IRR is the solution to: <br>\n",
    "## $$   \\sum \\limits _{t=0} ^{n} \\frac{CF_t}{(1+IRR)^t}  = 0 $$"
   ]
  },
  {
   "cell_type": "code",
   "execution_count": null,
   "metadata": {},
   "outputs": [],
   "source": [
    "AllCashFlows = [-CF_0,CF_1,CF_2,CF_3]  # rember negative for the outflow(Investment)\n",
    "\n",
    "np.irr(AllCashFlows)"
   ]
  },
  {
   "cell_type": "markdown",
   "metadata": {},
   "source": [
    "## What is the IRR of a \\\\$1,000 investment which loses \\\\$50 in year 1, loses \\\\$20 in year 2, generates \\\\$75 in year 3, another \\\\$150 in year 4, \\\\$250 in year 5, and is sold for \\\\$1,000?"
   ]
  },
  {
   "cell_type": "code",
   "execution_count": null,
   "metadata": {},
   "outputs": [],
   "source": []
  }
 ],
 "metadata": {
  "kernelspec": {
   "display_name": "Python 3",
   "language": "python",
   "name": "python3"
  },
  "language_info": {
   "codemirror_mode": {
    "name": "ipython",
    "version": 3
   },
   "file_extension": ".py",
   "mimetype": "text/x-python",
   "name": "python",
   "nbconvert_exporter": "python",
   "pygments_lexer": "ipython3",
   "version": "3.7.4"
  }
 },
 "nbformat": 4,
 "nbformat_minor": 4
}
